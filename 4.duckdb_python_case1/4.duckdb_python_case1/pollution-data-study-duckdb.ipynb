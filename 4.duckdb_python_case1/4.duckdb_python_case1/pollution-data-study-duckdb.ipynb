{
 "cells": [
  {
   "cell_type": "markdown",
   "id": "34eb8d86",
   "metadata": {
    "papermill": {
     "duration": 0.00981,
     "end_time": "2023-11-13T02:34:29.154247",
     "exception": false,
     "start_time": "2023-11-13T02:34:29.144437",
     "status": "completed"
    },
    "tags": []
   },
   "source": [
    "### Installing DuckDB and magic_duckdb extension"
   ]
  },
  {
   "cell_type": "markdown",
   "id": "6f76b253",
   "metadata": {},
   "source": [
    "Download data from here:\n",
    "https://www.kaggle.com/datasets/catalystcooperative/pudl-project?select=hourly_emissions_epacems.parquet"
   ]
  },
  {
   "cell_type": "code",
   "execution_count": 30,
   "id": "8afe5265",
   "metadata": {},
   "outputs": [],
   "source": [
    "!python3 -m venv .duckvenv\n",
    "!source .duckvenv/bin/activate"
   ]
  },
  {
   "cell_type": "code",
   "execution_count": 35,
   "id": "7026ccfa",
   "metadata": {},
   "outputs": [
    {
     "name": "stderr",
     "output_type": "stream",
     "text": [
      "/usr/lib/python3.11/pty.py:89: RuntimeWarning: Using fork() can cause Polars to deadlock in the child process.\n",
      "In addition, using fork() with Python in general is a recipe for mysterious\n",
      "deadlocks and crashes.\n",
      "\n",
      "The most likely reason you are seeing this error is because you are using the\n",
      "multiprocessing module on Linux, which uses fork() by default. This will be\n",
      "fixed in Python 3.14. Until then, you want to use the \"spawn\" context instead.\n",
      "\n",
      "See https://docs.pola.rs/user-guide/misc/multiprocessing/ for details.\n",
      "\n",
      "If you really know what your doing, you can silence this warning with the warning module\n",
      "or by setting POLARS_ALLOW_FORKING_THREAD=1.\n",
      "\n",
      "  pid, fd = os.forkpty()\n"
     ]
    },
    {
     "name": "stdout",
     "output_type": "stream",
     "text": [
      "/bin/pip:6: DeprecationWarning: pkg_resources is deprecated as an API. See https://setuptools.pypa.io/en/latest/pkg_resources.html\n",
      "  from pkg_resources import load_entry_point\n",
      "Traceback (most recent call last):\n",
      "  File \"/bin/pip\", line 11, in <module>\n",
      "    load_entry_point('pip==20.0.2', 'console_scripts', 'pip')()\n",
      "  File \"/usr/lib/python3/dist-packages/pip/_internal/cli/main.py\", line 73, in main\n",
      "    command = create_command(cmd_name, isolated=(\"--isolated\" in cmd_args))\n",
      "              ^^^^^^^^^^^^^^^^^^^^^^^^^^^^^^^^^^^^^^^^^^^^^^^^^^^^^^^^^^^^^\n",
      "  File \"/usr/lib/python3/dist-packages/pip/_internal/commands/__init__.py\", line 96, in create_command\n",
      "    module = importlib.import_module(module_path)\n",
      "             ^^^^^^^^^^^^^^^^^^^^^^^^^^^^^^^^^^^^\n",
      "  File \"/usr/lib/python3.11/importlib/__init__.py\", line 126, in import_module\n",
      "    return _bootstrap._gcd_import(name[level:], package, level)\n",
      "           ^^^^^^^^^^^^^^^^^^^^^^^^^^^^^^^^^^^^^^^^^^^^^^^^^^^^\n",
      "  File \"<frozen importlib._bootstrap>\", line 1204, in _gcd_import\n",
      "  File \"<frozen importlib._bootstrap>\", line 1176, in _find_and_load\n",
      "  File \"<frozen importlib._bootstrap>\", line 1147, in _find_and_load_unlocked\n",
      "  File \"<frozen importlib._bootstrap>\", line 690, in _load_unlocked\n",
      "  File \"<frozen importlib._bootstrap_external>\", line 940, in exec_module\n",
      "  File \"<frozen importlib._bootstrap>\", line 241, in _call_with_frames_removed\n",
      "  File \"/usr/lib/python3/dist-packages/pip/_internal/commands/install.py\", line 24, in <module>\n",
      "    from pip._internal.cli.req_command import RequirementCommand\n",
      "  File \"/usr/lib/python3/dist-packages/pip/_internal/cli/req_command.py\", line 15, in <module>\n",
      "    from pip._internal.index.package_finder import PackageFinder\n",
      "  File \"/usr/lib/python3/dist-packages/pip/_internal/index/package_finder.py\", line 21, in <module>\n",
      "    from pip._internal.index.collector import parse_links\n",
      "  File \"/usr/lib/python3/dist-packages/pip/_internal/index/collector.py\", line 12, in <module>\n",
      "    from pip._vendor import html5lib, requests\n",
      "ImportError: cannot import name 'html5lib' from 'pip._vendor' (/usr/lib/python3/dist-packages/pip/_vendor/__init__.py)\n"
     ]
    }
   ],
   "source": [
    "!pip install duckdb magic_duckdb polars plotly_express nbformat --quiet --user\n"
   ]
  },
  {
   "cell_type": "code",
   "execution_count": 45,
   "id": "f5405b1d",
   "metadata": {
    "execution": {
     "iopub.execute_input": "2023-11-13T02:35:00.776721Z",
     "iopub.status.busy": "2023-11-13T02:35:00.776303Z",
     "iopub.status.idle": "2023-11-13T02:35:02.514972Z",
     "shell.execute_reply": "2023-11-13T02:35:02.513816Z"
    },
    "papermill": {
     "duration": 1.752742,
     "end_time": "2023-11-13T02:35:02.517852",
     "exception": false,
     "start_time": "2023-11-13T02:35:00.765110",
     "status": "completed"
    },
    "tags": []
   },
   "outputs": [],
   "source": [
    "import duckdb\n",
    "import pandas as pd\n",
    "import polars as pl\n",
    "import plotly_express as px\n",
    "import pyarrow\n",
    "\n",
    "%reload_ext magic_duckdb"
   ]
  },
  {
   "cell_type": "markdown",
   "id": "eb5016a2",
   "metadata": {},
   "source": [
    "Read more about Polars here:\n",
    "https://pola.rs/#"
   ]
  },
  {
   "cell_type": "markdown",
   "id": "620268c0",
   "metadata": {
    "papermill": {
     "duration": 0.008972,
     "end_time": "2023-11-13T02:35:02.536347",
     "exception": false,
     "start_time": "2023-11-13T02:35:02.527375",
     "status": "completed"
    },
    "tags": []
   },
   "source": [
    "## Analyzing Data with DuckDB"
   ]
  },
  {
   "cell_type": "markdown",
   "id": "8f6799be",
   "metadata": {
    "papermill": {
     "duration": 0.008937,
     "end_time": "2023-11-13T02:35:02.554605",
     "exception": false,
     "start_time": "2023-11-13T02:35:02.545668",
     "status": "completed"
    },
    "tags": []
   },
   "source": [
    "### SQL queries using DuckDB:\n",
    "To run SQL queries in DuckDB we can directly use \".sql\", no need to create a connection to \":memory:\" \n",
    "\n",
    "Every DataFrame inside this notebook will be instantly available for DuckDB to make SQL queries against."
   ]
  },
  {
   "cell_type": "markdown",
   "id": "ccace552",
   "metadata": {},
   "source": [
    "### Starting with something simple "
   ]
  },
  {
   "cell_type": "code",
   "execution_count": 48,
   "id": "9b321b09",
   "metadata": {
    "execution": {
     "iopub.execute_input": "2023-11-13T02:35:02.575904Z",
     "iopub.status.busy": "2023-11-13T02:35:02.574635Z",
     "iopub.status.idle": "2023-11-13T02:35:02.582049Z",
     "shell.execute_reply": "2023-11-13T02:35:02.581256Z"
    },
    "papermill": {
     "duration": 0.020207,
     "end_time": "2023-11-13T02:35:02.584210",
     "exception": false,
     "start_time": "2023-11-13T02:35:02.564003",
     "status": "completed"
    },
    "tags": []
   },
   "outputs": [],
   "source": [
    "df = pd.DataFrame({\n",
    "    'column1': [1, 2, 3, 4, 5], \n",
    "    'column2': ['a', 'b', 'c', 'd', 'e'], \n",
    "})"
   ]
  },
  {
   "cell_type": "code",
   "execution_count": 49,
   "id": "76e7a0f0",
   "metadata": {
    "execution": {
     "iopub.execute_input": "2023-11-13T02:35:02.606749Z",
     "iopub.status.busy": "2023-11-13T02:35:02.605889Z",
     "iopub.status.idle": "2023-11-13T02:35:02.625817Z",
     "shell.execute_reply": "2023-11-13T02:35:02.624735Z"
    },
    "papermill": {
     "duration": 0.035293,
     "end_time": "2023-11-13T02:35:02.628948",
     "exception": false,
     "start_time": "2023-11-13T02:35:02.593655",
     "status": "completed"
    },
    "tags": []
   },
   "outputs": [
    {
     "data": {
      "text/html": [
       "<div>\n",
       "<style scoped>\n",
       "    .dataframe tbody tr th:only-of-type {\n",
       "        vertical-align: middle;\n",
       "    }\n",
       "\n",
       "    .dataframe tbody tr th {\n",
       "        vertical-align: top;\n",
       "    }\n",
       "\n",
       "    .dataframe thead th {\n",
       "        text-align: right;\n",
       "    }\n",
       "</style>\n",
       "<table border=\"1\" class=\"dataframe\">\n",
       "  <thead>\n",
       "    <tr style=\"text-align: right;\">\n",
       "      <th></th>\n",
       "      <th>column1</th>\n",
       "      <th>column2</th>\n",
       "    </tr>\n",
       "  </thead>\n",
       "  <tbody>\n",
       "    <tr>\n",
       "      <th>0</th>\n",
       "      <td>1</td>\n",
       "      <td>a</td>\n",
       "    </tr>\n",
       "    <tr>\n",
       "      <th>1</th>\n",
       "      <td>2</td>\n",
       "      <td>b</td>\n",
       "    </tr>\n",
       "    <tr>\n",
       "      <th>2</th>\n",
       "      <td>3</td>\n",
       "      <td>c</td>\n",
       "    </tr>\n",
       "    <tr>\n",
       "      <th>3</th>\n",
       "      <td>4</td>\n",
       "      <td>d</td>\n",
       "    </tr>\n",
       "    <tr>\n",
       "      <th>4</th>\n",
       "      <td>5</td>\n",
       "      <td>e</td>\n",
       "    </tr>\n",
       "  </tbody>\n",
       "</table>\n",
       "</div>"
      ],
      "text/plain": [
       "   column1 column2\n",
       "0        1       a\n",
       "1        2       b\n",
       "2        3       c\n",
       "3        4       d\n",
       "4        5       e"
      ]
     },
     "execution_count": 49,
     "metadata": {},
     "output_type": "execute_result"
    }
   ],
   "source": [
    "df.head()"
   ]
  },
  {
   "cell_type": "code",
   "execution_count": 50,
   "id": "cc1f6a14",
   "metadata": {
    "execution": {
     "iopub.execute_input": "2023-11-13T02:35:02.650583Z",
     "iopub.status.busy": "2023-11-13T02:35:02.650164Z",
     "iopub.status.idle": "2023-11-13T02:35:02.667825Z",
     "shell.execute_reply": "2023-11-13T02:35:02.666774Z"
    },
    "papermill": {
     "duration": 0.031869,
     "end_time": "2023-11-13T02:35:02.670638",
     "exception": false,
     "start_time": "2023-11-13T02:35:02.638769",
     "status": "completed"
    },
    "tags": []
   },
   "outputs": [
    {
     "data": {
      "text/plain": [
       "┌─────────┬─────────┐\n",
       "│ column1 │ column2 │\n",
       "│  int64  │ varchar │\n",
       "├─────────┼─────────┤\n",
       "│       1 │ a       │\n",
       "│       2 │ b       │\n",
       "│       3 │ c       │\n",
       "│       4 │ d       │\n",
       "│       5 │ e       │\n",
       "└─────────┴─────────┘"
      ]
     },
     "execution_count": 50,
     "metadata": {},
     "output_type": "execute_result"
    }
   ],
   "source": [
    "duckdb.sql('''\n",
    "SELECT * \n",
    "FROM df\n",
    "''')"
   ]
  },
  {
   "cell_type": "markdown",
   "id": "e58104a4",
   "metadata": {
    "papermill": {
     "duration": 0.010094,
     "end_time": "2023-11-13T02:35:02.690621",
     "exception": false,
     "start_time": "2023-11-13T02:35:02.680527",
     "status": "completed"
    },
    "tags": []
   },
   "source": [
    "- DuckDB was able to query our Pandas DataFrame without any extra steps\n",
    "\n",
    "- Let's go directly from \"FROM...\" leaving  \"SELECT *\" as a legacy"
   ]
  },
  {
   "cell_type": "code",
   "execution_count": 51,
   "id": "3d3fbf92",
   "metadata": {
    "execution": {
     "iopub.execute_input": "2023-11-13T02:35:02.712212Z",
     "iopub.status.busy": "2023-11-13T02:35:02.711807Z",
     "iopub.status.idle": "2023-11-13T02:35:02.727896Z",
     "shell.execute_reply": "2023-11-13T02:35:02.726742Z"
    },
    "papermill": {
     "duration": 0.029902,
     "end_time": "2023-11-13T02:35:02.730420",
     "exception": false,
     "start_time": "2023-11-13T02:35:02.700518",
     "status": "completed"
    },
    "tags": []
   },
   "outputs": [
    {
     "data": {
      "text/plain": [
       "┌─────────┬─────────┐\n",
       "│ column1 │ column2 │\n",
       "│  int64  │ varchar │\n",
       "├─────────┼─────────┤\n",
       "│       1 │ a       │\n",
       "│       2 │ b       │\n",
       "│       3 │ c       │\n",
       "│       4 │ d       │\n",
       "│       5 │ e       │\n",
       "└─────────┴─────────┘"
      ]
     },
     "execution_count": 51,
     "metadata": {},
     "output_type": "execute_result"
    }
   ],
   "source": [
    "duckdb.sql('''\n",
    "FROM df \n",
    "''')"
   ]
  },
  {
   "cell_type": "code",
   "execution_count": 52,
   "id": "5a607eae",
   "metadata": {
    "execution": {
     "iopub.execute_input": "2023-11-13T02:35:02.752558Z",
     "iopub.status.busy": "2023-11-13T02:35:02.752170Z",
     "iopub.status.idle": "2023-11-13T02:35:02.767196Z",
     "shell.execute_reply": "2023-11-13T02:35:02.766114Z"
    },
    "papermill": {
     "duration": 0.028919,
     "end_time": "2023-11-13T02:35:02.769547",
     "exception": false,
     "start_time": "2023-11-13T02:35:02.740628",
     "status": "completed"
    },
    "tags": []
   },
   "outputs": [
    {
     "data": {
      "text/plain": [
       "┌─────────┬─────────┐\n",
       "│ column1 │ column2 │\n",
       "│  int64  │ varchar │\n",
       "├─────────┼─────────┤\n",
       "│       1 │ a       │\n",
       "│       2 │ b       │\n",
       "│       3 │ c       │\n",
       "│       4 │ d       │\n",
       "│       5 │ e       │\n",
       "└─────────┴─────────┘"
      ]
     },
     "execution_count": 52,
     "metadata": {},
     "output_type": "execute_result"
    }
   ],
   "source": [
    "duckdb.sql('FROM df')"
   ]
  },
  {
   "cell_type": "code",
   "execution_count": 16,
   "id": "ad3a6b59",
   "metadata": {},
   "outputs": [
    {
     "name": "stdout",
     "output_type": "stream",
     "text": [
      "[(1, 3), (2, 4)]\n"
     ]
    }
   ],
   "source": [
    "# Conectando ao DuckDB e registrando o dataframe\n",
    "\n",
    "\n",
    "\n",
    "# Exemplo de dataframe\n",
    "df = pd.DataFrame({\"col1\": [1, 2], \"col2\": [3, 4]})\n",
    "con = duckdb.connect()\n",
    "con.register(\"df\", df)\n",
    "con.execute(\"SHOW TABLES\").fetchall()\n",
    "result = con.execute(\"SELECT * FROM df\").fetchall()\n",
    "print(result)\n",
    "%reload_ext magic_duckdb\n"
   ]
  },
  {
   "cell_type": "markdown",
   "id": "9ee647a6",
   "metadata": {
    "papermill": {
     "duration": 0.010081,
     "end_time": "2023-11-13T02:35:02.789867",
     "exception": false,
     "start_time": "2023-11-13T02:35:02.779786",
     "status": "completed"
    },
    "tags": []
   },
   "source": [
    "We installed duckdb magic earlier and can now avoid repeating `duckdb.sql` and use:\n",
    "- `%dql` for single line queries \n",
    "&\n",
    "- `%%dql` for multiple lined queries instead"
   ]
  },
  {
   "cell_type": "code",
   "execution_count": 53,
   "id": "1e8e354d",
   "metadata": {
    "execution": {
     "iopub.execute_input": "2023-11-13T02:35:02.812019Z",
     "iopub.status.busy": "2023-11-13T02:35:02.811591Z",
     "iopub.status.idle": "2023-11-13T02:35:02.824666Z",
     "shell.execute_reply": "2023-11-13T02:35:02.823904Z"
    },
    "papermill": {
     "duration": 0.027388,
     "end_time": "2023-11-13T02:35:02.827431",
     "exception": false,
     "start_time": "2023-11-13T02:35:02.800043",
     "status": "completed"
    },
    "tags": []
   },
   "outputs": [
    {
     "name": "stdout",
     "output_type": "stream",
     "text": [
      "┌─────────┐\n",
      "│  name   │\n",
      "│ varchar │\n",
      "├─────────┤\n",
      "│ 0 rows  │\n",
      "└─────────┘\n",
      "\n"
     ]
    }
   ],
   "source": [
    "%%dql -t show \n",
    "SHOW TABLES"
   ]
  },
  {
   "cell_type": "code",
   "execution_count": 56,
   "id": "8c3ddfa7",
   "metadata": {
    "execution": {
     "iopub.execute_input": "2023-11-13T02:35:02.850337Z",
     "iopub.status.busy": "2023-11-13T02:35:02.849916Z",
     "iopub.status.idle": "2023-11-13T02:35:02.861859Z",
     "shell.execute_reply": "2023-11-13T02:35:02.860899Z"
    },
    "papermill": {
     "duration": 0.026131,
     "end_time": "2023-11-13T02:35:02.864262",
     "exception": false,
     "start_time": "2023-11-13T02:35:02.838131",
     "status": "completed"
    },
    "tags": []
   },
   "outputs": [
    {
     "ename": "ValueError",
     "evalue": "Error executing SELECT * FROM df in DuckDB",
     "output_type": "error",
     "traceback": [
      "\u001b[0;31m---------------------------------------------------------------------------\u001b[0m",
      "\u001b[0;31mCatalogException\u001b[0m                          Traceback (most recent call last)",
      "File \u001b[0;32m~/.local/lib/python3.11/site-packages/magic_duckdb/duckdb_mode.py:135\u001b[0m, in \u001b[0;36mDuckDbMode.execute\u001b[0;34m(self, query_string, connection, export_function, explain_function, params, export_kwargs)\u001b[0m\n\u001b[1;32m    134\u001b[0m         execute \u001b[38;5;241m=\u001b[39m \u001b[38;5;28;01mTrue\u001b[39;00m\n\u001b[0;32m--> 135\u001b[0m     r \u001b[38;5;241m=\u001b[39m \u001b[43mexecute_db\u001b[49m\u001b[43m(\u001b[49m\n\u001b[1;32m    136\u001b[0m \u001b[43m        \u001b[49m\u001b[43mquery\u001b[49m\u001b[38;5;241;43m=\u001b[39;49m\u001b[43mquery_string\u001b[49m\u001b[43m,\u001b[49m\u001b[43m \u001b[49m\u001b[43mcon\u001b[49m\u001b[38;5;241;43m=\u001b[39;49m\u001b[43mconnection\u001b[49m\u001b[43m,\u001b[49m\u001b[43m \u001b[49m\u001b[43mparams\u001b[49m\u001b[38;5;241;43m=\u001b[39;49m\u001b[43mparams\u001b[49m\u001b[43m,\u001b[49m\u001b[43m \u001b[49m\u001b[43mexecute\u001b[49m\u001b[38;5;241;43m=\u001b[39;49m\u001b[43mexecute\u001b[49m\n\u001b[1;32m    137\u001b[0m \u001b[43m    \u001b[49m\u001b[43m)\u001b[49m\n\u001b[1;32m    138\u001b[0m \u001b[38;5;28;01mexcept\u001b[39;00m \u001b[38;5;167;01mException\u001b[39;00m \u001b[38;5;28;01mas\u001b[39;00m e:\n",
      "File \u001b[0;32m~/.local/lib/python3.11/site-packages/magic_duckdb/duckdb_mode.py:17\u001b[0m, in \u001b[0;36mexecute_db\u001b[0;34m(query, con, execute, params)\u001b[0m\n\u001b[1;32m     16\u001b[0m \u001b[38;5;28;01mif\u001b[39;00m execute \u001b[38;5;129;01mor\u001b[39;00m params \u001b[38;5;129;01mis\u001b[39;00m \u001b[38;5;129;01mnot\u001b[39;00m \u001b[38;5;28;01mNone\u001b[39;00m:\n\u001b[0;32m---> 17\u001b[0m     \u001b[38;5;28;01mreturn\u001b[39;00m \u001b[43mcon\u001b[49m\u001b[38;5;241;43m.\u001b[39;49m\u001b[43mexecute\u001b[49m\u001b[43m(\u001b[49m\u001b[43mquery\u001b[49m\u001b[43m,\u001b[49m\u001b[43m \u001b[49m\u001b[43mparameters\u001b[49m\u001b[38;5;241;43m=\u001b[39;49m\u001b[43mparams\u001b[49m\u001b[43m)\u001b[49m\n\u001b[1;32m     18\u001b[0m \u001b[38;5;28;01melse\u001b[39;00m:\n",
      "\u001b[0;31mCatalogException\u001b[0m: Catalog Error: Table with name df does not exist!\nDid you mean \"pg_depend\"?\nLINE 1: SELECT * FROM df\n                      ^",
      "\nThe above exception was the direct cause of the following exception:\n",
      "\u001b[0;31mValueError\u001b[0m                                Traceback (most recent call last)",
      "Cell \u001b[0;32mIn[56], line 1\u001b[0m\n\u001b[0;32m----> 1\u001b[0m \u001b[43mget_ipython\u001b[49m\u001b[43m(\u001b[49m\u001b[43m)\u001b[49m\u001b[38;5;241;43m.\u001b[39;49m\u001b[43mrun_cell_magic\u001b[49m\u001b[43m(\u001b[49m\u001b[38;5;124;43m'\u001b[39;49m\u001b[38;5;124;43mdql\u001b[39;49m\u001b[38;5;124;43m'\u001b[39;49m\u001b[43m,\u001b[49m\u001b[43m \u001b[49m\u001b[38;5;124;43m'\u001b[39;49m\u001b[38;5;124;43m'\u001b[39;49m\u001b[43m,\u001b[49m\u001b[43m \u001b[49m\u001b[38;5;124;43m'\u001b[39;49m\u001b[38;5;124;43mSELECT * FROM df\u001b[39;49m\u001b[38;5;130;43;01m\\n\u001b[39;49;00m\u001b[38;5;124;43m'\u001b[39;49m\u001b[43m)\u001b[49m\n",
      "File \u001b[0;32m~/.local/lib/python3.11/site-packages/IPython/core/interactiveshell.py:2541\u001b[0m, in \u001b[0;36mInteractiveShell.run_cell_magic\u001b[0;34m(self, magic_name, line, cell)\u001b[0m\n\u001b[1;32m   2539\u001b[0m \u001b[38;5;28;01mwith\u001b[39;00m \u001b[38;5;28mself\u001b[39m\u001b[38;5;241m.\u001b[39mbuiltin_trap:\n\u001b[1;32m   2540\u001b[0m     args \u001b[38;5;241m=\u001b[39m (magic_arg_s, cell)\n\u001b[0;32m-> 2541\u001b[0m     result \u001b[38;5;241m=\u001b[39m \u001b[43mfn\u001b[49m\u001b[43m(\u001b[49m\u001b[38;5;241;43m*\u001b[39;49m\u001b[43margs\u001b[49m\u001b[43m,\u001b[49m\u001b[43m \u001b[49m\u001b[38;5;241;43m*\u001b[39;49m\u001b[38;5;241;43m*\u001b[39;49m\u001b[43mkwargs\u001b[49m\u001b[43m)\u001b[49m\n\u001b[1;32m   2543\u001b[0m \u001b[38;5;66;03m# The code below prevents the output from being displayed\u001b[39;00m\n\u001b[1;32m   2544\u001b[0m \u001b[38;5;66;03m# when using magics with decorator @output_can_be_silenced\u001b[39;00m\n\u001b[1;32m   2545\u001b[0m \u001b[38;5;66;03m# when the last Python token in the expression is a ';'.\u001b[39;00m\n\u001b[1;32m   2546\u001b[0m \u001b[38;5;28;01mif\u001b[39;00m \u001b[38;5;28mgetattr\u001b[39m(fn, magic\u001b[38;5;241m.\u001b[39mMAGIC_OUTPUT_CAN_BE_SILENCED, \u001b[38;5;28;01mFalse\u001b[39;00m):\n",
      "File \u001b[0;32m~/.local/lib/python3.11/site-packages/magic_duckdb/magic.py:239\u001b[0m, in \u001b[0;36mDuckDbMagic.execute\u001b[0;34m(self, line, cell, local_ns)\u001b[0m\n\u001b[1;32m    236\u001b[0m \u001b[38;5;28;01mif\u001b[39;00m args\u001b[38;5;241m.\u001b[39mtables:\n\u001b[1;32m    237\u001b[0m     \u001b[38;5;28;01mreturn\u001b[39;00m thisconnection\u001b[38;5;241m.\u001b[39mget_table_names(query)\n\u001b[0;32m--> 239\u001b[0m o \u001b[38;5;241m=\u001b[39m \u001b[43mdbwrapper\u001b[49m\u001b[38;5;241;43m.\u001b[39;49m\u001b[43mexecute\u001b[49m\u001b[43m(\u001b[49m\n\u001b[1;32m    240\u001b[0m \u001b[43m    \u001b[49m\u001b[43mquery_string\u001b[49m\u001b[38;5;241;43m=\u001b[39;49m\u001b[43mquery\u001b[49m\u001b[43m,\u001b[49m\n\u001b[1;32m    241\u001b[0m \u001b[43m    \u001b[49m\u001b[43mconnection\u001b[49m\u001b[38;5;241;43m=\u001b[39;49m\u001b[43mthisconnection\u001b[49m\u001b[43m,\u001b[49m\n\u001b[1;32m    242\u001b[0m \u001b[43m    \u001b[49m\u001b[43mexport_function\u001b[49m\u001b[38;5;241;43m=\u001b[39;49m\u001b[43margs\u001b[49m\u001b[38;5;241;43m.\u001b[39;49m\u001b[43mtype\u001b[49m\u001b[43m[\u001b[49m\u001b[38;5;241;43m0\u001b[39;49m\u001b[43m]\u001b[49m\n\u001b[1;32m    243\u001b[0m \u001b[43m    \u001b[49m\u001b[38;5;28;43;01mif\u001b[39;49;00m\u001b[43m \u001b[49m\u001b[43margs\u001b[49m\u001b[38;5;241;43m.\u001b[39;49m\u001b[43mtype\u001b[49m\n\u001b[1;32m    244\u001b[0m \u001b[43m    \u001b[49m\u001b[38;5;28;43;01melse\u001b[39;49;00m\u001b[43m \u001b[49m\u001b[38;5;28;43mself\u001b[39;49m\u001b[38;5;241;43m.\u001b[39;49m\u001b[43mdefault_export_function\u001b[49m\u001b[43m,\u001b[49m\n\u001b[1;32m    245\u001b[0m \u001b[43m    \u001b[49m\u001b[43mexplain_function\u001b[49m\u001b[38;5;241;43m=\u001b[39;49m\u001b[43mexplain_function\u001b[49m\u001b[43m,\u001b[49m\n\u001b[1;32m    246\u001b[0m \u001b[43m    \u001b[49m\u001b[43mparams\u001b[49m\u001b[38;5;241;43m=\u001b[39;49m\u001b[43mqueryparams\u001b[49m\u001b[43m,\u001b[49m\n\u001b[1;32m    247\u001b[0m \u001b[43m    \u001b[49m\u001b[43mexport_kwargs\u001b[49m\u001b[38;5;241;43m=\u001b[39;49m\u001b[43mexport_kwargs\u001b[49m\n\u001b[1;32m    248\u001b[0m \u001b[43m\u001b[49m\u001b[43m)\u001b[49m\n\u001b[1;32m    249\u001b[0m \u001b[38;5;28;01mif\u001b[39;00m args\u001b[38;5;241m.\u001b[39moutput:\n\u001b[1;32m    250\u001b[0m     user_ns[args\u001b[38;5;241m.\u001b[39moutput[\u001b[38;5;241m0\u001b[39m]] \u001b[38;5;241m=\u001b[39m o\n",
      "File \u001b[0;32m~/.local/lib/python3.11/site-packages/magic_duckdb/duckdb_mode.py:139\u001b[0m, in \u001b[0;36mDuckDbMode.execute\u001b[0;34m(self, query_string, connection, export_function, explain_function, params, export_kwargs)\u001b[0m\n\u001b[1;32m    135\u001b[0m     r \u001b[38;5;241m=\u001b[39m execute_db(\n\u001b[1;32m    136\u001b[0m         query\u001b[38;5;241m=\u001b[39mquery_string, con\u001b[38;5;241m=\u001b[39mconnection, params\u001b[38;5;241m=\u001b[39mparams, execute\u001b[38;5;241m=\u001b[39mexecute\n\u001b[1;32m    137\u001b[0m     )\n\u001b[1;32m    138\u001b[0m \u001b[38;5;28;01mexcept\u001b[39;00m \u001b[38;5;167;01mException\u001b[39;00m \u001b[38;5;28;01mas\u001b[39;00m e:\n\u001b[0;32m--> 139\u001b[0m     \u001b[38;5;28;01mraise\u001b[39;00m \u001b[38;5;167;01mValueError\u001b[39;00m(\u001b[38;5;124mf\u001b[39m\u001b[38;5;124m\"\u001b[39m\u001b[38;5;124mError executing \u001b[39m\u001b[38;5;132;01m{\u001b[39;00mquery_string\u001b[38;5;132;01m}\u001b[39;00m\u001b[38;5;124m in DuckDB\u001b[39m\u001b[38;5;124m\"\u001b[39m) \u001b[38;5;28;01mfrom\u001b[39;00m \u001b[38;5;21;01me\u001b[39;00m\n\u001b[1;32m    141\u001b[0m \u001b[38;5;28;01mif\u001b[39;00m r \u001b[38;5;129;01mis\u001b[39;00m \u001b[38;5;28;01mNone\u001b[39;00m \u001b[38;5;129;01mor\u001b[39;00m (\u001b[38;5;124m\"\u001b[39m\u001b[38;5;124mrelation\u001b[39m\u001b[38;5;124m\"\u001b[39m \u001b[38;5;241m==\u001b[39m export_function):\n\u001b[1;32m    142\u001b[0m     \u001b[38;5;28;01mreturn\u001b[39;00m r\n",
      "\u001b[0;31mValueError\u001b[0m: Error executing SELECT * FROM df in DuckDB"
     ]
    }
   ],
   "source": [
    "%%dql \n",
    "SELECT * FROM df"
   ]
  },
  {
   "cell_type": "markdown",
   "id": "9d2e6616",
   "metadata": {
    "papermill": {
     "duration": 0.010418,
     "end_time": "2023-11-13T02:35:02.885296",
     "exception": false,
     "start_time": "2023-11-13T02:35:02.874878",
     "status": "completed"
    },
    "tags": []
   },
   "source": [
    "Note that by using the magic_duckdb extension, our queries return a Pandas DataFrame, meaning we are still making use of the \"lazyness\" of DuckDB during the query, but then immediately bringing the query result entirely to memory.\n",
    "\n",
    "To avoid this, we can set the type of return by using \"-t\" followed by the type, choosing from \"df\", \"arrow\", \"pl\", \"describe\", \"show\" and \"relation\"."
   ]
  },
  {
   "cell_type": "code",
   "execution_count": null,
   "id": "da6f26ae",
   "metadata": {
    "execution": {
     "iopub.execute_input": "2023-11-13T02:35:02.908434Z",
     "iopub.status.busy": "2023-11-13T02:35:02.908040Z",
     "iopub.status.idle": "2023-11-13T02:35:02.917400Z",
     "shell.execute_reply": "2023-11-13T02:35:02.916011Z"
    },
    "papermill": {
     "duration": 0.0239,
     "end_time": "2023-11-13T02:35:02.919773",
     "exception": false,
     "start_time": "2023-11-13T02:35:02.895873",
     "status": "completed"
    },
    "tags": []
   },
   "outputs": [],
   "source": [
    "%%dql -t show \n",
    "FROM df\n",
    "SELECT *"
   ]
  },
  {
   "cell_type": "markdown",
   "id": "771b249d",
   "metadata": {
    "papermill": {
     "duration": 0.010394,
     "end_time": "2023-11-13T02:35:02.940987",
     "exception": false,
     "start_time": "2023-11-13T02:35:02.930593",
     "status": "completed"
    },
    "tags": []
   },
   "source": [
    "We can also change the default behavior by passing the \"cell magic + type\" without a query.\n",
    "\n",
    "Let's set the extension default to DuckDB's default using the type \"show\"."
   ]
  },
  {
   "cell_type": "code",
   "execution_count": 11,
   "id": "c7552291",
   "metadata": {
    "execution": {
     "iopub.execute_input": "2023-11-13T02:35:02.964776Z",
     "iopub.status.busy": "2023-11-13T02:35:02.963870Z",
     "iopub.status.idle": "2023-11-13T02:35:02.969643Z",
     "shell.execute_reply": "2023-11-13T02:35:02.968506Z"
    },
    "papermill": {
     "duration": 0.0205,
     "end_time": "2023-11-13T02:35:02.972148",
     "exception": false,
     "start_time": "2023-11-13T02:35:02.951648",
     "status": "completed"
    },
    "tags": []
   },
   "outputs": [],
   "source": [
    "%dql -t show"
   ]
  },
  {
   "cell_type": "code",
   "execution_count": null,
   "id": "e7452892",
   "metadata": {
    "execution": {
     "iopub.execute_input": "2023-11-13T02:35:02.996284Z",
     "iopub.status.busy": "2023-11-13T02:35:02.995882Z",
     "iopub.status.idle": "2023-11-13T02:35:03.005246Z",
     "shell.execute_reply": "2023-11-13T02:35:03.004020Z"
    },
    "papermill": {
     "duration": 0.023428,
     "end_time": "2023-11-13T02:35:03.007420",
     "exception": false,
     "start_time": "2023-11-13T02:35:02.983992",
     "status": "completed"
    },
    "tags": []
   },
   "outputs": [],
   "source": [
    "%%dql\n",
    "FROM df\n",
    "SELECT *"
   ]
  },
  {
   "cell_type": "markdown",
   "id": "283b44ae",
   "metadata": {
    "execution": {
     "iopub.execute_input": "2023-11-13T02:13:15.100428Z",
     "iopub.status.busy": "2023-11-13T02:13:15.099824Z",
     "iopub.status.idle": "2023-11-13T02:13:15.109463Z",
     "shell.execute_reply": "2023-11-13T02:13:15.107609Z",
     "shell.execute_reply.started": "2023-11-13T02:13:15.100399Z"
    },
    "papermill": {
     "duration": 0.010694,
     "end_time": "2023-11-13T02:35:03.029437",
     "exception": false,
     "start_time": "2023-11-13T02:35:03.018743",
     "status": "completed"
    },
    "tags": []
   },
   "source": [
    "### Doing 'Big Data' analysis. Bigger than RAM!\n",
    "- DuckDB can also connect directly to files like CSV/Parquet\n",
    "\n",
    "- We have a __huge__ file with emmissions: let's start working with it\n",
    "- For starters, let's take advantage of DuckDB's \"lazyness\" and count the rows while avoiding loading all data into machine's memory"
   ]
  },
  {
   "cell_type": "code",
   "execution_count": null,
   "id": "1fb39f14",
   "metadata": {},
   "outputs": [],
   "source": [
    "!pwd"
   ]
  },
  {
   "cell_type": "code",
   "execution_count": null,
   "id": "546a4c41",
   "metadata": {
    "execution": {
     "iopub.execute_input": "2023-11-13T02:35:03.053555Z",
     "iopub.status.busy": "2023-11-13T02:35:03.052791Z",
     "iopub.status.idle": "2023-11-13T02:35:03.447506Z",
     "shell.execute_reply": "2023-11-13T02:35:03.446347Z"
    },
    "papermill": {
     "duration": 0.411381,
     "end_time": "2023-11-13T02:35:03.451797",
     "exception": false,
     "start_time": "2023-11-13T02:35:03.040416",
     "status": "completed"
    },
    "tags": []
   },
   "outputs": [],
   "source": [
    "duckdb.sql('''\n",
    "SELECT COUNT(*) \n",
    "FROM 'hourly_emissions_epacems.parquet'\n",
    "'''\n",
    ")"
   ]
  },
  {
   "cell_type": "markdown",
   "id": "3a9c4d8c",
   "metadata": {
    "papermill": {
     "duration": 0.010644,
     "end_time": "2023-11-13T02:35:03.473484",
     "exception": false,
     "start_time": "2023-11-13T02:35:03.462840",
     "status": "completed"
    },
    "tags": []
   },
   "source": [
    "We could instantly count all those 897 million rows. It's like querying a database.\n",
    "\n",
    "Let's now do 3 cool things: \n",
    "- get a number of descriptive statistics using avg & max filtering data from just one state\n",
    "- do the same thing using Pandas\n",
    "-compare execution time"
   ]
  },
  {
   "cell_type": "code",
   "execution_count": null,
   "id": "7c368e1d",
   "metadata": {
    "execution": {
     "iopub.execute_input": "2023-11-13T02:35:03.497411Z",
     "iopub.status.busy": "2023-11-13T02:35:03.496730Z",
     "iopub.status.idle": "2023-11-13T02:35:13.472652Z",
     "shell.execute_reply": "2023-11-13T02:35:13.470051Z"
    },
    "papermill": {
     "duration": 9.990917,
     "end_time": "2023-11-13T02:35:13.475430",
     "exception": false,
     "start_time": "2023-11-13T02:35:03.484513",
     "status": "completed"
    },
    "tags": []
   },
   "outputs": [],
   "source": [
    "%%time\n",
    "%%dql\n",
    "SELECT avg(co2_mass_tons) as average_co2_emmission, max(co2_mass_tons) as max_co2_emmission\n",
    "FROM 'hourly_emissions_epacems.parquet'\n",
    "WHERE state = 'CO'"
   ]
  },
  {
   "cell_type": "code",
   "execution_count": null,
   "id": "189b486b",
   "metadata": {},
   "outputs": [],
   "source": [
    "%%time\n",
    "df = pd.read_parquet('hourly_emissions_epacems.parquet', engine='pyarrow', columns=['state', 'co2_mass_tons'])\n",
    "print(df[df['state']=='CO']['co2_mass_tons'].mean(), df[df['state']=='CO']['co2_mass_tons'].max())"
   ]
  },
  {
   "cell_type": "markdown",
   "id": "e7f1c08f",
   "metadata": {
    "papermill": {
     "duration": 0.013956,
     "end_time": "2023-11-13T02:35:13.500874",
     "exception": false,
     "start_time": "2023-11-13T02:35:13.486918",
     "status": "completed"
    },
    "tags": []
   },
   "source": [
    "we can also display descriptive stats as a polars DataFrame"
   ]
  },
  {
   "cell_type": "code",
   "execution_count": null,
   "id": "a30164f1",
   "metadata": {
    "execution": {
     "iopub.execute_input": "2023-11-13T02:35:13.526395Z",
     "iopub.status.busy": "2023-11-13T02:35:13.525881Z",
     "iopub.status.idle": "2023-11-13T02:35:23.404005Z",
     "shell.execute_reply": "2023-11-13T02:35:23.402803Z"
    },
    "papermill": {
     "duration": 9.894285,
     "end_time": "2023-11-13T02:35:23.406606",
     "exception": false,
     "start_time": "2023-11-13T02:35:13.512321",
     "status": "completed"
    },
    "tags": []
   },
   "outputs": [],
   "source": [
    "%%time\n",
    "%%dql -t pl\n",
    "SUMMARIZE \n",
    "SELECT * \n",
    "FROM 'hourly_emissions_epacems.parquet'\n",
    "WHERE state = 'CO'"
   ]
  },
  {
   "cell_type": "markdown",
   "id": "9898d6cf",
   "metadata": {
    "papermill": {
     "duration": 0.012003,
     "end_time": "2023-11-13T02:35:23.431110",
     "exception": false,
     "start_time": "2023-11-13T02:35:23.419107",
     "status": "completed"
    },
    "tags": []
   },
   "source": [
    "Now let's group some data so we can create a visualization.\n",
    "\n",
    "To store the query output into a variable, we can use \"-o\" followed by the variable name. Let's save it as a Polars DataFrame to the variable \"df_gb\"."
   ]
  },
  {
   "cell_type": "code",
   "execution_count": null,
   "id": "92d15801",
   "metadata": {
    "execution": {
     "iopub.execute_input": "2023-11-13T02:35:23.457072Z",
     "iopub.status.busy": "2023-11-13T02:35:23.456640Z",
     "iopub.status.idle": "2023-11-13T02:35:25.881878Z",
     "shell.execute_reply": "2023-11-13T02:35:25.880670Z"
    },
    "papermill": {
     "duration": 2.441493,
     "end_time": "2023-11-13T02:35:25.884680",
     "exception": false,
     "start_time": "2023-11-13T02:35:23.443187",
     "status": "completed"
    },
    "tags": []
   },
   "outputs": [],
   "source": [
    "%%time\n",
    "%%dql -t pl -o df_gb\n",
    "SELECT \n",
    "    year, \n",
    "    hour(operating_datetime_utc) AS hour, \n",
    "    SUM(co2_mass_tons) AS co2, \n",
    "FROM 'hourly_emissions_epacems.parquet'\n",
    "WHERE state = 'CO'\n",
    "GROUP BY ALL"
   ]
  },
  {
   "cell_type": "code",
   "execution_count": null,
   "id": "d7bfb3bd",
   "metadata": {
    "papermill": {
     "duration": 0.013365,
     "end_time": "2023-11-13T02:35:28.394263",
     "exception": false,
     "start_time": "2023-11-13T02:35:28.380898",
     "status": "completed"
    },
    "tags": []
   },
   "outputs": [],
   "source": []
  }
 ],
 "metadata": {
  "kernelspec": {
   "display_name": "Python 3",
   "language": "python",
   "name": "python3"
  },
  "language_info": {
   "codemirror_mode": {
    "name": "ipython",
    "version": 3
   },
   "file_extension": ".py",
   "mimetype": "text/x-python",
   "name": "python",
   "nbconvert_exporter": "python",
   "pygments_lexer": "ipython3",
   "version": "3.11.10"
  },
  "papermill": {
   "default_parameters": {},
   "duration": 63.440365,
   "end_time": "2023-11-13T02:35:29.131027",
   "environment_variables": {},
   "exception": null,
   "input_path": "__notebook__.ipynb",
   "output_path": "__notebook__.ipynb",
   "parameters": {},
   "start_time": "2023-11-13T02:34:25.690662",
   "version": "2.4.0"
  },
  "widgets": {
   "application/vnd.jupyter.widget-state+json": {
    "state": {
     "003fb92d1b4f46a0b7f2f84c16a6d040": {
      "model_module": "@jupyter-widgets/controls",
      "model_module_version": "1.5.0",
      "model_name": "FloatProgressModel",
      "state": {
       "_dom_classes": [],
       "_model_module": "@jupyter-widgets/controls",
       "_model_module_version": "1.5.0",
       "_model_name": "FloatProgressModel",
       "_view_count": null,
       "_view_module": "@jupyter-widgets/controls",
       "_view_module_version": "1.5.0",
       "_view_name": "ProgressView",
       "bar_style": "",
       "description": "",
       "description_tooltip": null,
       "layout": "IPY_MODEL_bd8e882a876c490cbbed0e87b47195f6",
       "max": 100,
       "min": 0,
       "orientation": "horizontal",
       "style": "IPY_MODEL_0f0edde2962e43e8a958fa8b141e281d",
       "value": 100
      }
     },
     "0f0edde2962e43e8a958fa8b141e281d": {
      "model_module": "@jupyter-widgets/controls",
      "model_module_version": "1.5.0",
      "model_name": "ProgressStyleModel",
      "state": {
       "_model_module": "@jupyter-widgets/controls",
       "_model_module_version": "1.5.0",
       "_model_name": "ProgressStyleModel",
       "_view_count": null,
       "_view_module": "@jupyter-widgets/base",
       "_view_module_version": "1.2.0",
       "_view_name": "StyleView",
       "bar_color": "black",
       "description_width": ""
      }
     },
     "532bc91b170e41b3a629468eea9597e0": {
      "model_module": "@jupyter-widgets/controls",
      "model_module_version": "1.5.0",
      "model_name": "ProgressStyleModel",
      "state": {
       "_model_module": "@jupyter-widgets/controls",
       "_model_module_version": "1.5.0",
       "_model_name": "ProgressStyleModel",
       "_view_count": null,
       "_view_module": "@jupyter-widgets/base",
       "_view_module_version": "1.2.0",
       "_view_name": "StyleView",
       "bar_color": "black",
       "description_width": ""
      }
     },
     "7916d1d878c94b0fa620cd24ba70cc6d": {
      "model_module": "@jupyter-widgets/controls",
      "model_module_version": "1.5.0",
      "model_name": "FloatProgressModel",
      "state": {
       "_dom_classes": [],
       "_model_module": "@jupyter-widgets/controls",
       "_model_module_version": "1.5.0",
       "_model_name": "FloatProgressModel",
       "_view_count": null,
       "_view_module": "@jupyter-widgets/controls",
       "_view_module_version": "1.5.0",
       "_view_name": "ProgressView",
       "bar_style": "",
       "description": "",
       "description_tooltip": null,
       "layout": "IPY_MODEL_a0844f1634b840ffb01457c3e71cdde8",
       "max": 100,
       "min": 0,
       "orientation": "horizontal",
       "style": "IPY_MODEL_83dc9071519742f796fbcf7e710edd13",
       "value": 100
      }
     },
     "83dc9071519742f796fbcf7e710edd13": {
      "model_module": "@jupyter-widgets/controls",
      "model_module_version": "1.5.0",
      "model_name": "ProgressStyleModel",
      "state": {
       "_model_module": "@jupyter-widgets/controls",
       "_model_module_version": "1.5.0",
       "_model_name": "ProgressStyleModel",
       "_view_count": null,
       "_view_module": "@jupyter-widgets/base",
       "_view_module_version": "1.2.0",
       "_view_name": "StyleView",
       "bar_color": "black",
       "description_width": ""
      }
     },
     "a0844f1634b840ffb01457c3e71cdde8": {
      "model_module": "@jupyter-widgets/base",
      "model_module_version": "1.2.0",
      "model_name": "LayoutModel",
      "state": {
       "_model_module": "@jupyter-widgets/base",
       "_model_module_version": "1.2.0",
       "_model_name": "LayoutModel",
       "_view_count": null,
       "_view_module": "@jupyter-widgets/base",
       "_view_module_version": "1.2.0",
       "_view_name": "LayoutView",
       "align_content": null,
       "align_items": null,
       "align_self": null,
       "border": null,
       "bottom": null,
       "display": null,
       "flex": null,
       "flex_flow": null,
       "grid_area": null,
       "grid_auto_columns": null,
       "grid_auto_flow": null,
       "grid_auto_rows": null,
       "grid_column": null,
       "grid_gap": null,
       "grid_row": null,
       "grid_template_areas": null,
       "grid_template_columns": null,
       "grid_template_rows": null,
       "height": null,
       "justify_content": null,
       "justify_items": null,
       "left": null,
       "margin": null,
       "max_height": null,
       "max_width": null,
       "min_height": null,
       "min_width": null,
       "object_fit": null,
       "object_position": null,
       "order": null,
       "overflow": null,
       "overflow_x": null,
       "overflow_y": null,
       "padding": null,
       "right": null,
       "top": null,
       "visibility": null,
       "width": "auto"
      }
     },
     "b45572af1bb340ee953203269545e738": {
      "model_module": "@jupyter-widgets/controls",
      "model_module_version": "1.5.0",
      "model_name": "FloatProgressModel",
      "state": {
       "_dom_classes": [],
       "_model_module": "@jupyter-widgets/controls",
       "_model_module_version": "1.5.0",
       "_model_name": "FloatProgressModel",
       "_view_count": null,
       "_view_module": "@jupyter-widgets/controls",
       "_view_module_version": "1.5.0",
       "_view_name": "ProgressView",
       "bar_style": "",
       "description": "",
       "description_tooltip": null,
       "layout": "IPY_MODEL_ec70965212e94f48bcb26a06e35537ef",
       "max": 100,
       "min": 0,
       "orientation": "horizontal",
       "style": "IPY_MODEL_532bc91b170e41b3a629468eea9597e0",
       "value": 100
      }
     },
     "bd8e882a876c490cbbed0e87b47195f6": {
      "model_module": "@jupyter-widgets/base",
      "model_module_version": "1.2.0",
      "model_name": "LayoutModel",
      "state": {
       "_model_module": "@jupyter-widgets/base",
       "_model_module_version": "1.2.0",
       "_model_name": "LayoutModel",
       "_view_count": null,
       "_view_module": "@jupyter-widgets/base",
       "_view_module_version": "1.2.0",
       "_view_name": "LayoutView",
       "align_content": null,
       "align_items": null,
       "align_self": null,
       "border": null,
       "bottom": null,
       "display": null,
       "flex": null,
       "flex_flow": null,
       "grid_area": null,
       "grid_auto_columns": null,
       "grid_auto_flow": null,
       "grid_auto_rows": null,
       "grid_column": null,
       "grid_gap": null,
       "grid_row": null,
       "grid_template_areas": null,
       "grid_template_columns": null,
       "grid_template_rows": null,
       "height": null,
       "justify_content": null,
       "justify_items": null,
       "left": null,
       "margin": null,
       "max_height": null,
       "max_width": null,
       "min_height": null,
       "min_width": null,
       "object_fit": null,
       "object_position": null,
       "order": null,
       "overflow": null,
       "overflow_x": null,
       "overflow_y": null,
       "padding": null,
       "right": null,
       "top": null,
       "visibility": null,
       "width": "auto"
      }
     },
     "ec70965212e94f48bcb26a06e35537ef": {
      "model_module": "@jupyter-widgets/base",
      "model_module_version": "1.2.0",
      "model_name": "LayoutModel",
      "state": {
       "_model_module": "@jupyter-widgets/base",
       "_model_module_version": "1.2.0",
       "_model_name": "LayoutModel",
       "_view_count": null,
       "_view_module": "@jupyter-widgets/base",
       "_view_module_version": "1.2.0",
       "_view_name": "LayoutView",
       "align_content": null,
       "align_items": null,
       "align_self": null,
       "border": null,
       "bottom": null,
       "display": null,
       "flex": null,
       "flex_flow": null,
       "grid_area": null,
       "grid_auto_columns": null,
       "grid_auto_flow": null,
       "grid_auto_rows": null,
       "grid_column": null,
       "grid_gap": null,
       "grid_row": null,
       "grid_template_areas": null,
       "grid_template_columns": null,
       "grid_template_rows": null,
       "height": null,
       "justify_content": null,
       "justify_items": null,
       "left": null,
       "margin": null,
       "max_height": null,
       "max_width": null,
       "min_height": null,
       "min_width": null,
       "object_fit": null,
       "object_position": null,
       "order": null,
       "overflow": null,
       "overflow_x": null,
       "overflow_y": null,
       "padding": null,
       "right": null,
       "top": null,
       "visibility": null,
       "width": "auto"
      }
     }
    },
    "version_major": 2,
    "version_minor": 0
   }
  }
 },
 "nbformat": 4,
 "nbformat_minor": 5
}
